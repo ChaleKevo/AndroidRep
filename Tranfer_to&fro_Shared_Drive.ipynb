{
  "nbformat": 4,
  "nbformat_minor": 0,
  "metadata": {
    "colab": {
      "name": "Tranfer to&fro Shared Drive",
      "provenance": [],
      "authorship_tag": "ABX9TyNcrZz40i0gzdZnT8ET5+0l",
      "include_colab_link": true
    },
    "kernelspec": {
      "name": "python3",
      "display_name": "Python 3"
    }
  },
  "cells": [
    {
      "cell_type": "markdown",
      "metadata": {
        "id": "view-in-github",
        "colab_type": "text"
      },
      "source": [
        "<a href=\"https://colab.research.google.com/github/ChaleKevo/AndroidRep/blob/master/Tranfer_to%26fro_Shared_Drive.ipynb\" target=\"_parent\"><img src=\"https://colab.research.google.com/assets/colab-badge.svg\" alt=\"Open In Colab\"/></a>"
      ]
    },
    {
      "cell_type": "markdown",
      "metadata": {
        "id": "Xyjo0t4uU2-Q",
        "colab_type": "text"
      },
      "source": [
        "Mount to Google drive"
      ]
    },
    {
      "cell_type": "code",
      "metadata": {
        "id": "bNqak1H_M8Ed",
        "colab_type": "code",
        "colab": {}
      },
      "source": [
        "from google.colab import drive\n",
        "drive.mount('/gdrive')"
      ],
      "execution_count": 0,
      "outputs": []
    },
    {
      "cell_type": "markdown",
      "metadata": {
        "id": "N8mawGyhUyv_",
        "colab_type": "text"
      },
      "source": [
        "Check for internet speed"
      ]
    },
    {
      "cell_type": "code",
      "metadata": {
        "id": "4AJ37we5OvIF",
        "colab_type": "code",
        "colab": {}
      },
      "source": [
        "!curl -s https://raw.githubusercontent.com/sivel/speedtest-cli/master/speedtest.py | python -"
      ],
      "execution_count": 0,
      "outputs": []
    },
    {
      "cell_type": "markdown",
      "metadata": {
        "id": "IuVJArzMUpHv",
        "colab_type": "text"
      },
      "source": [
        "List your Google Drive"
      ]
    },
    {
      "cell_type": "code",
      "metadata": {
        "id": "pf40lovfOvph",
        "colab_type": "code",
        "colab": {}
      },
      "source": [
        "!ls '/gdrive/'"
      ],
      "execution_count": 0,
      "outputs": []
    },
    {
      "cell_type": "markdown",
      "metadata": {
        "id": "FfpddJKJUszs",
        "colab_type": "text"
      },
      "source": [
        "List shared drives"
      ]
    },
    {
      "cell_type": "code",
      "metadata": {
        "id": "749vrIMDOv6I",
        "colab_type": "code",
        "colab": {}
      },
      "source": [
        "!ls '/gdrive/Shared drives/'"
      ],
      "execution_count": 0,
      "outputs": []
    },
    {
      "cell_type": "markdown",
      "metadata": {
        "id": "gTHdi-yyTScj",
        "colab_type": "text"
      },
      "source": [
        "Select one of the listed drives above and replace with Triangle GDrive"
      ]
    },
    {
      "cell_type": "code",
      "metadata": {
        "id": "T-uxa0zzSVr1",
        "colab_type": "code",
        "colab": {}
      },
      "source": [
        "!ls '/gdrive/Shared drives/Triangle GDrive'"
      ],
      "execution_count": 0,
      "outputs": []
    },
    {
      "cell_type": "markdown",
      "metadata": {
        "id": "Wo8DQfcGUGZj",
        "colab_type": "text"
      },
      "source": [
        "Copy the files from the shared drives (Only files not folders)"
      ]
    },
    {
      "cell_type": "code",
      "metadata": {
        "id": "nwB90DAXPEwf",
        "colab_type": "code",
        "colab": {}
      },
      "source": [
        "!cp -av \"/gdrive/Shared drives/\" '/gdrive/Shared drives/'"
      ],
      "execution_count": 0,
      "outputs": []
    },
    {
      "cell_type": "markdown",
      "metadata": {
        "id": "VGs1EGS1T89i",
        "colab_type": "text"
      },
      "source": [
        "For a whole folder copy, use this command for the last command instead"
      ]
    },
    {
      "cell_type": "code",
      "metadata": {
        "id": "zFAVPKqyPIEX",
        "colab_type": "code",
        "colab": {}
      },
      "source": [
        "cp -Rv '/gdrive/source/folder' '/gdrive/destination/container/folder'"
      ],
      "execution_count": 0,
      "outputs": []
    }
  ]
}