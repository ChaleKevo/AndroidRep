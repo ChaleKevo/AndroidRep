{
  "nbformat": 4,
  "nbformat_minor": 0,
  "metadata": {
    "colab": {
      "name": "Copy of Torrent_to_Google_Drive_BoostUpStation.ipynb",
      "provenance": [],
      "include_colab_link": true
    },
    "kernelspec": {
      "name": "python3",
      "display_name": "Python 3"
    }
  },
  "cells": [
    {
      "cell_type": "markdown",
      "metadata": {
        "id": "view-in-github",
        "colab_type": "text"
      },
      "source": [
        "<a href=\"https://colab.research.google.com/github/ChaleKevo/AndroidRep/blob/master/Copy_of_Torrent_to_Google_Drive.ipynb\" target=\"_parent\"><img src=\"https://colab.research.google.com/assets/colab-badge.svg\" alt=\"Open In Colab\"/></a>"
      ]
    },
    {
      "cell_type": "code",
      "metadata": {
        "id": "3c9P2ZRQslcm",
        "colab_type": "code",
        "colab": {
          "base_uri": "https://localhost:8080/",
          "height": 833
        },
        "outputId": "21bd2b91-f9b2-4712-d081-be2f54dc4057"
      },
      "source": [
        "#@title TO INSTALL TORRENT CLIENT, RUN THIS SHELL\n",
        "\n",
        "!apt-get install transmission-cli\n",
        "!sudo echo \"net.core.wmem_max = 1048576\" >> /etc/sysctl.conf\n",
        "!sudo echo \"net.core.rmem_max = 4194304\" >> /etc/sysctl.conf"
      ],
      "execution_count": 2,
      "outputs": [
        {
          "output_type": "stream",
          "text": [
            "Reading package lists... Done\n",
            "Building dependency tree       \n",
            "Reading state information... Done\n",
            "The following package was automatically installed and is no longer required:\n",
            "  libnvidia-common-440\n",
            "Use 'apt autoremove' to remove it.\n",
            "The following additional packages will be installed:\n",
            "  libevent-2.1-6 libminiupnpc10 libnatpmp1 transmission-common\n",
            "Suggested packages:\n",
            "  minissdpd natpmpc transmission-daemon transmission-gtk\n",
            "The following NEW packages will be installed:\n",
            "  libevent-2.1-6 libminiupnpc10 libnatpmp1 transmission-cli\n",
            "  transmission-common\n",
            "0 upgraded, 5 newly installed, 0 to remove and 59 not upgraded.\n",
            "Need to get 808 kB of archives.\n",
            "After this operation, 3,975 kB of additional disk space will be used.\n",
            "Get:1 http://archive.ubuntu.com/ubuntu bionic/main amd64 libevent-2.1-6 amd64 2.1.8-stable-4build1 [133 kB]\n",
            "Get:2 http://archive.ubuntu.com/ubuntu bionic/main amd64 libminiupnpc10 amd64 1.9.20140610-4ubuntu2 [24.1 kB]\n",
            "Get:3 http://archive.ubuntu.com/ubuntu bionic/main amd64 libnatpmp1 amd64 20150609-2 [7,612 B]\n",
            "Get:4 http://archive.ubuntu.com/ubuntu bionic/main amd64 transmission-common all 2.92-3ubuntu2 [237 kB]\n",
            "Get:5 http://archive.ubuntu.com/ubuntu bionic/universe amd64 transmission-cli amd64 2.92-3ubuntu2 [406 kB]\n",
            "Fetched 808 kB in 1s (607 kB/s)\n",
            "Selecting previously unselected package libevent-2.1-6:amd64.\n",
            "(Reading database ... 144328 files and directories currently installed.)\n",
            "Preparing to unpack .../libevent-2.1-6_2.1.8-stable-4build1_amd64.deb ...\n",
            "Unpacking libevent-2.1-6:amd64 (2.1.8-stable-4build1) ...\n",
            "Selecting previously unselected package libminiupnpc10:amd64.\n",
            "Preparing to unpack .../libminiupnpc10_1.9.20140610-4ubuntu2_amd64.deb ...\n",
            "Unpacking libminiupnpc10:amd64 (1.9.20140610-4ubuntu2) ...\n",
            "Selecting previously unselected package libnatpmp1.\n",
            "Preparing to unpack .../libnatpmp1_20150609-2_amd64.deb ...\n",
            "Unpacking libnatpmp1 (20150609-2) ...\n",
            "Selecting previously unselected package transmission-common.\n",
            "Preparing to unpack .../transmission-common_2.92-3ubuntu2_all.deb ...\n",
            "Unpacking transmission-common (2.92-3ubuntu2) ...\n",
            "Selecting previously unselected package transmission-cli.\n",
            "Preparing to unpack .../transmission-cli_2.92-3ubuntu2_amd64.deb ...\n",
            "Unpacking transmission-cli (2.92-3ubuntu2) ...\n",
            "Setting up libevent-2.1-6:amd64 (2.1.8-stable-4build1) ...\n",
            "Setting up libminiupnpc10:amd64 (1.9.20140610-4ubuntu2) ...\n",
            "Setting up libnatpmp1 (20150609-2) ...\n",
            "Setting up transmission-common (2.92-3ubuntu2) ...\n",
            "Setting up transmission-cli (2.92-3ubuntu2) ...\n",
            "Processing triggers for hicolor-icon-theme (0.17-2) ...\n",
            "Processing triggers for libc-bin (2.27-3ubuntu1) ...\n",
            "/sbin/ldconfig.real: /usr/local/lib/python3.6/dist-packages/ideep4py/lib/libmkldnn.so.0 is not a symbolic link\n",
            "\n",
            "Processing triggers for man-db (2.8.3-2ubuntu0.1) ...\n"
          ],
          "name": "stdout"
        }
      ]
    },
    {
      "cell_type": "code",
      "metadata": {
        "id": "U3GFDIv7_12A",
        "colab_type": "code",
        "colab": {
          "base_uri": "https://localhost:8080/",
          "height": 122
        },
        "outputId": "bcc940c5-4923-44a4-b68c-8580434fd4c1"
      },
      "source": [
        "from google.colab import drive\n",
        "drive.mount('/content/drive')"
      ],
      "execution_count": 1,
      "outputs": [
        {
          "output_type": "stream",
          "text": [
            "Go to this URL in a browser: https://accounts.google.com/o/oauth2/auth?client_id=947318989803-6bn6qk8qdgf4n4g3pfee6491hc0brc4i.apps.googleusercontent.com&redirect_uri=urn%3aietf%3awg%3aoauth%3a2.0%3aoob&response_type=code&scope=email%20https%3a%2f%2fwww.googleapis.com%2fauth%2fdocs.test%20https%3a%2f%2fwww.googleapis.com%2fauth%2fdrive%20https%3a%2f%2fwww.googleapis.com%2fauth%2fdrive.photos.readonly%20https%3a%2f%2fwww.googleapis.com%2fauth%2fpeopleapi.readonly\n",
            "\n",
            "Enter your authorization code:\n",
            "··········\n",
            "Mounted at /content/drive\n"
          ],
          "name": "stdout"
        }
      ]
    },
    {
      "cell_type": "code",
      "metadata": {
        "id": "cZs-LHANrUUr",
        "colab_type": "code",
        "colab": {}
      },
      "source": [
        "#@title FOR .TORRENT FILE, RUN THIS SHELL:\n",
        "\n",
        "from os import chdir\n",
        "chdir(\"/content/drive/Shared drives/Team Drive Unlimited Share\")\n",
        "!transmission-cli -D -g \"/content/drive/Shared drives/Additional Shared Drive/config\" -w \"/content/drive/Shared drives/Additional Shared Drive/shutterstock6\" Torrent-6.torrent\n"
      ],
      "execution_count": null,
      "outputs": []
    },
    {
      "cell_type": "code",
      "metadata": {
        "id": "j_bRj0C5rXqO",
        "colab_type": "code",
        "colab": {}
      },
      "source": [
        "#@title FOR MAGNET LINK, RUN THIS SHELL:\n",
        "\n",
        "!transmission-cli -D -g \"/content/drive/Shared drives/Empress Drive/config\" -w \"/content/drive/Shared drives/Empress Drive/TORRENTS\" magnet:?xt=urn:btih:7ffc1a6347d8b8a4da112069e942db08e8f7b40e&dn=Escape.from.Sobibor.1987.WS.720p.BluRay.x264-GUACAMOLE&tr=http%3A%2F%2Ftracker.trackerfix.com%3A80%2Fannounce&tr=udp%3A%2F%2F9.rarbg.me%3A2840&tr=udp%3A%2F%2F9.rarbg.to%3A2880"
      ],
      "execution_count": null,
      "outputs": []
    }
  ]
}